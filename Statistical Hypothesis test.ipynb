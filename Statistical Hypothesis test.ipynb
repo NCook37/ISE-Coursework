{
 "cells": [
  {
   "cell_type": "code",
   "execution_count": 2,
   "metadata": {},
   "outputs": [
    {
     "name": "stdout",
     "output_type": "stream",
     "text": [
      "Rank-sum test for AUFNIRA_z3.637557.smt2: [6.50947464e-11 6.50947464e-11 6.50947464e-11]\n",
      "H0 rejected for AUFNIRA_z3.637557.smt2 on 3/3 metrics\n",
      "Rank-sum test for artificl.tar: [6.50947464e-11 6.50947464e-11 6.50947464e-11]\n",
      "H0 rejected for artificl.tar on 3/3 metrics\n",
      "Rank-sum test for Johnny_1280x720_60_short.y4m: [6.50947464e-11 6.50947464e-11 6.50947464e-11]\n",
      "H0 rejected for Johnny_1280x720_60_short.y4m on 3/3 metrics\n",
      "Rank-sum test for ambivert.wav.tar: [0.19144751 0.50368318 0.30470986]\n",
      "H0 accepted for ambivert.wav.tar on 3/3 metrics\n",
      "Rank-sum test for smallbank-1: [0.95039943 0.95039943 0.85196206]\n",
      "H0 accepted for smallbank-1 on 3/3 metrics\n",
      "Rank-sum test for jpeg-large: [6.50947464e-11 6.50947464e-11 6.50947464e-11]\n",
      "H0 rejected for jpeg-large on 3/3 metrics\n",
      "Rank-sum test for corona: [1.80379794e-06 9.84321493e-11 6.50947464e-11]\n",
      "H0 rejected for corona on 3/3 metrics\n",
      "Rank-sum test for beethoven.wav: [6.50947464e-11 6.50947464e-11 6.50947464e-11]\n",
      "H0 rejected for beethoven.wav on 3/3 metrics\n",
      "Rank-sum test for ambivert: [6.50947464e-11 6.50947464e-11 6.50947464e-11]\n",
      "H0 rejected for ambivert on 3/3 metrics\n"
     ]
    }
   ],
   "source": [
    "from scipy.stats import mannwhitneyu\n",
    "import pandas as pd\n",
    "from pathlib import Path\n",
    "\n",
    "path = str(Path.cwd())\n",
    "\n",
    "files = [\"AUFNIRA_z3.637557.smt2\", \"artificl.tar\", \"Johnny_1280x720_60_short.y4m\", \"ambivert.wav.tar\", \"smallbank-1\", \"jpeg-large\", \"corona\", \"beethoven.wav\", \"ambivert\"]\n",
    "for file in files:\n",
    "\n",
    "    data = pd.read_csv(path + \"/data analysis/\"+ file + \" test_set analysis.csv\")\n",
    "    data_linear = pd.read_csv(path + \"/data analysis/\" + file + \" linear test_set analysis.csv\")\n",
    "    p = mannwhitneyu(data, data_linear, alternative='two-sided')\n",
    "    print(f\"Rank-sum test for {file}: \" + str(p.pvalue))\n",
    "    if(p.pvalue < 0.01).sum() >= 2:\n",
    "        print(f\"H0 rejected for {file} on {(p.pvalue < 0.05).sum()}/3 metrics\")\n",
    "    else:\n",
    "        print(f\"H0 accepted for {file} on {(p.pvalue > 0.05).sum()}/3 metrics\")"
   ]
  }
 ],
 "metadata": {
  "kernelspec": {
   "display_name": "base",
   "language": "python",
   "name": "python3"
  },
  "language_info": {
   "codemirror_mode": {
    "name": "ipython",
    "version": 3
   },
   "file_extension": ".py",
   "mimetype": "text/x-python",
   "name": "python",
   "nbconvert_exporter": "python",
   "pygments_lexer": "ipython3",
   "version": "3.12.3"
  }
 },
 "nbformat": 4,
 "nbformat_minor": 2
}
